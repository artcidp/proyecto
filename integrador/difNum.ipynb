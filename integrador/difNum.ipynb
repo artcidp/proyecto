{
 "cells": [
  {
   "cell_type": "code",
   "execution_count": 1,
   "metadata": {
    "collapsed": false
   },
   "outputs": [],
   "source": [
    "import math"
   ]
  },
  {
   "cell_type": "markdown",
   "metadata": {},
   "source": [
    "objeto dual"
   ]
  },
  {
   "cell_type": "code",
   "execution_count": 2,
   "metadata": {
    "collapsed": false
   },
   "outputs": [],
   "source": [
    "class Dual(object):\n",
    "    \n",
    "    def __init__(self,fun,der=0):\n",
    "        self.fun = fun\n",
    "        self.der = der\n",
    "    \n",
    "    def __str__(self):\n",
    "        return \"Dual(%s,%s)\" % (str(self.fun),str(self.der))\n",
    "        \n",
    "    def __real__(self, a):\n",
    "        return Dual(a,0)\n",
    "    \n",
    "    def __add__(self, b):\n",
    "        if type(self) < type(b):\n",
    "            b = Dual(b)\n",
    "        return Dual(self.fun+b.fun,self.der+b.der)\n",
    "    \n",
    "    def __radd__(self, b):\n",
    "        return self.__add__(b)\n",
    "    \n",
    "    def __sub__(self, b):\n",
    "        if type(self) < type(b):\n",
    "            b = Dual(b)\n",
    "        return Dual(self.fun-b.fun,self.der-b.der)\n",
    "    \n",
    "    def __rsub__(self, b):\n",
    "        return self.__sub__(b)\n",
    "    \n",
    "    def __mul__(self, b):\n",
    "        if type(self) < type(b):\n",
    "            return Dual(b*self.fun,b*self.der)\n",
    "        return Dual(self.fun*b.fun, (self.fun*b.der) + (b.fun*self.der))\n",
    "    \n",
    "    def __rmul__(self, b):\n",
    "        return self.__mul__(b)\n",
    "    \n",
    "    def __div__(self, b):\n",
    "        if type(self) < type(b) and b != 0:\n",
    "            return Dual(self.fun/float(b), self.der/float(b))\n",
    "        return Dual(self.fun/b.fun, (self.der - (self.fun/float(b.fun))*b.der)/float(b.fun))\n",
    "    def __rdiv__(self,b):\n",
    "        return self.__div__(b)\n",
    "    \n",
    "    def __pow__(self,b):\n",
    "        return Dual(self.fun**b, b*(self.fun**(b-1))*self.der)"
   ]
  },
  {
   "cell_type": "code",
   "execution_count": 3,
   "metadata": {
    "collapsed": true
   },
   "outputs": [],
   "source": [
    "a = Dual(1,2)"
   ]
  },
  {
   "cell_type": "markdown",
   "metadata": {},
   "source": [
    "Derivada del término lineal"
   ]
  },
  {
   "cell_type": "code",
   "execution_count": 5,
   "metadata": {
    "collapsed": false
   },
   "outputs": [],
   "source": [
    "def xdual(x0):\n",
    "    return Dual(x0,1)"
   ]
  },
  {
   "cell_type": "markdown",
   "metadata": {},
   "source": [
    "Pruebas"
   ]
  },
  {
   "cell_type": "code",
   "execution_count": 6,
   "metadata": {
    "collapsed": true
   },
   "outputs": [],
   "source": [
    "def test1(x):\n",
    "    return 3*x**3-2"
   ]
  },
  {
   "cell_type": "code",
   "execution_count": 7,
   "metadata": {
    "collapsed": false
   },
   "outputs": [
    {
     "name": "stdout",
     "output_type": "stream",
     "text": [
      "Dual(1,9)\n"
     ]
    }
   ],
   "source": [
    "print test1(xdual(1))"
   ]
  },
  {
   "cell_type": "code",
   "execution_count": 8,
   "metadata": {
    "collapsed": true
   },
   "outputs": [],
   "source": [
    "def test2(x):\n",
    "    return (3*x**2-8*x+5)/(7*x**3-1)"
   ]
  },
  {
   "cell_type": "code",
   "execution_count": 9,
   "metadata": {
    "collapsed": false
   },
   "outputs": [
    {
     "name": "stdout",
     "output_type": "stream",
     "text": [
      "Dual(0,-0.333333333333)\n"
     ]
    }
   ],
   "source": [
    "print test2(xdual(1))"
   ]
  },
  {
   "cell_type": "markdown",
   "metadata": {},
   "source": [
    "hola"
   ]
  },
  {
   "cell_type": "code",
   "execution_count": 36,
   "metadata": {
    "collapsed": false
   },
   "outputs": [],
   "source": [
    "# Ahora definiremos métodos para funciones\n",
    "def sqrt(self):\n",
    "    return Dual(math.sqrt(self.fun), (0.5)*(self.der/math.sqrt(self.fun)))\n",
    "def exp(self):\n",
    "    return Dual(math.exp(self.fun), self.der*math.exp(self.fun))\n",
    "def log(self):\n",
    "    return Dual(math.log(self.fun), self.der/self.fun)\n",
    "def sin(self):\n",
    "    return Dual(math.sin(self.fun), self.der*math.cos(self.fun))\n",
    "def cos(self):\n",
    "    return Dual(math.cos(self.fun), -self.der*math.sin(self.fun)) \n",
    "def tan(self):\n",
    "    return Dual(math.tan(self.fun), self.der*math.sec(self.fun)**2)\n",
    "def cot(self):\n",
    "    return Dual(1./math.tan(self.fun), -1*self.der*math.csc(self.fun)**2)"
   ]
  },
  {
   "cell_type": "code",
   "execution_count": 42,
   "metadata": {
    "collapsed": false
   },
   "outputs": [
    {
     "name": "stdout",
     "output_type": "stream",
     "text": [
      "Dual(1,2) Dual(2.71828182846,5.43656365692)\n"
     ]
    }
   ],
   "source": [
    "print a, exp(a)"
   ]
  }
 ],
 "metadata": {
  "kernelspec": {
   "display_name": "Python 2",
   "language": "python",
   "name": "python2"
  },
  "language_info": {
   "codemirror_mode": {
    "name": "ipython",
    "version": 2
   },
   "file_extension": ".py",
   "mimetype": "text/x-python",
   "name": "python",
   "nbconvert_exporter": "python",
   "pygments_lexer": "ipython2",
   "version": "2.7.11"
  }
 },
 "nbformat": 4,
 "nbformat_minor": 0
}
