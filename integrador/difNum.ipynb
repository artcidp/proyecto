{
 "cells": [
  {
   "cell_type": "code",
   "execution_count": 1,
   "metadata": {
    "collapsed": false
   },
   "outputs": [],
   "source": [
    "import math\n",
    "import pylab\n",
    "%matplotlib inline"
   ]
  },
  {
   "cell_type": "markdown",
   "metadata": {},
   "source": [
    "objeto dual"
   ]
  },
  {
   "cell_type": "code",
   "execution_count": 2,
   "metadata": {
    "collapsed": false
   },
   "outputs": [],
   "source": [
    "class Dual(object):\n",
    "    \n",
    "    def __init__(self,fun,der=0):\n",
    "        self.fun = fun\n",
    "        self.der = der\n",
    "    \n",
    "    def __str__(self):\n",
    "        return \"Dual(%s,%s)\" % (str(self.fun),str(self.der))\n",
    "        \n",
    "    def __real__(self, a):\n",
    "        return Dual(a,0)\n",
    "    \n",
    "    def __add__(self, b):\n",
    "        if type(self) < type(b):\n",
    "            b = Dual(b)\n",
    "        return Dual(self.fun+b.fun,self.der+b.der)\n",
    "    \n",
    "    def __radd__(self, b):\n",
    "        return self.__add__(b)\n",
    "    \n",
    "    def __sub__(self, b):\n",
    "        if type(self) < type(b):\n",
    "            b = Dual(b)\n",
    "        return Dual(self.fun-b.fun,self.der-b.der)\n",
    "    \n",
    "    def __rsub__(self, b):\n",
    "        return self.__sub__(b)\n",
    "    \n",
    "    def __mul__(self, b):\n",
    "        if type(self) < type(b):\n",
    "            return Dual(b*self.fun,b*self.der)\n",
    "        return Dual(self.fun*b.fun, (self.fun*b.der) + (b.fun*self.der))\n",
    "    \n",
    "    def __rmul__(self, b):\n",
    "        return self.__mul__(b)\n",
    "    \n",
    "    def __div__(self, b):\n",
    "        if type(self) < type(b) and b != 0:\n",
    "            return Dual(self.fun/float(b), self.der/float(b))\n",
    "        return Dual(self.fun/b.fun, (self.der - (self.fun/float(b.fun))*b.der)/float(b.fun))\n",
    "    def __rdiv__(self,b):\n",
    "        return self.__div__(b)\n",
    "    \n",
    "    def __pow__(self,b):\n",
    "        return Dual(self.fun**b, b*(self.fun**(b-1))*self.der)"
   ]
  },
  {
   "cell_type": "code",
   "execution_count": 3,
   "metadata": {
    "collapsed": true
   },
   "outputs": [],
   "source": [
    "a = Dual(1,2)"
   ]
  },
  {
   "cell_type": "markdown",
   "metadata": {},
   "source": [
    "Derivada del término lineal"
   ]
  },
  {
   "cell_type": "code",
   "execution_count": 4,
   "metadata": {
    "collapsed": false
   },
   "outputs": [],
   "source": [
    "def xdual(x0):\n",
    "    return Dual(x0,1)"
   ]
  },
  {
   "cell_type": "markdown",
   "metadata": {},
   "source": [
    "Pruebas"
   ]
  },
  {
   "cell_type": "code",
   "execution_count": 5,
   "metadata": {
    "collapsed": true
   },
   "outputs": [],
   "source": [
    "def test1(x):\n",
    "    return 3*x**3-2"
   ]
  },
  {
   "cell_type": "code",
   "execution_count": 6,
   "metadata": {
    "collapsed": false
   },
   "outputs": [
    {
     "name": "stdout",
     "output_type": "stream",
     "text": [
      "Dual(1,9)\n"
     ]
    }
   ],
   "source": [
    "print test1(xdual(1))"
   ]
  },
  {
   "cell_type": "code",
   "execution_count": 7,
   "metadata": {
    "collapsed": true
   },
   "outputs": [],
   "source": [
    "def test2(x):\n",
    "    return (3*x**2-8*x+5)/(7*x**3-1)"
   ]
  },
  {
   "cell_type": "code",
   "execution_count": 8,
   "metadata": {
    "collapsed": false
   },
   "outputs": [
    {
     "name": "stdout",
     "output_type": "stream",
     "text": [
      "Dual(0,-0.333333333333)\n"
     ]
    }
   ],
   "source": [
    "print test2(xdual(1))"
   ]
  },
  {
   "cell_type": "code",
   "execution_count": 9,
   "metadata": {
    "collapsed": false
   },
   "outputs": [],
   "source": [
    "# Ahora definiremos métodos para funciones\n",
    "def sqrt(self):\n",
    "    return Dual(math.sqrt(self.fun), (0.5)*(self.der/math.sqrt(self.fun)))\n",
    "def exp(self):\n",
    "    return Dual(math.exp(self.fun), self.der*math.exp(self.fun))\n",
    "def log(self):\n",
    "    return Dual(math.log(self.fun), self.der/self.fun)\n",
    "def sin(self):\n",
    "    return Dual(math.sin(self.fun), self.der*math.cos(self.fun))\n",
    "def cos(self):\n",
    "    return Dual(math.cos(self.fun), -self.der*math.sin(self.fun)) \n",
    "def tan(self):\n",
    "    return Dual(math.tan(self.fun), self.der/(math.cos(self.fun)**2))\n",
    "def cot(self):\n",
    "    return Dual(1./math.tan(self.fun), -1.*self.der/(math.sin(self.fun)**2))\n",
    "def sec(self):\n",
    "    return Dual(1./math.cos(self.fun), self.der*math.tan(self.fun)/math.cos(self.fun))\n",
    "def csc(self):\n",
    "    return Dual(1./math.sin(self.fun), -1.*self.der/(math.tan(self.fun)*math.sin(self.fun)))"
   ]
  },
  {
   "cell_type": "code",
   "execution_count": 10,
   "metadata": {
    "collapsed": false,
    "scrolled": true
   },
   "outputs": [
    {
     "name": "stdout",
     "output_type": "stream",
     "text": [
      "Dual(2.0,1.0) Dual(0.909297426826,-0.416146836547)\n"
     ]
    }
   ],
   "source": [
    "a = Dual(2.0,1.0)\n",
    "print a, sin(a)"
   ]
  },
  {
   "cell_type": "code",
   "execution_count": 11,
   "metadata": {
    "collapsed": false
   },
   "outputs": [
    {
     "data": {
      "text/plain": [
       "-0.4161468365471424"
      ]
     },
     "execution_count": 11,
     "metadata": {},
     "output_type": "execute_result"
    }
   ],
   "source": [
    "math.cos(2)"
   ]
  },
  {
   "cell_type": "markdown",
   "metadata": {},
   "source": [
    "Sí da hasta la 9na cifra decimal."
   ]
  },
  {
   "cell_type": "code",
   "execution_count": 12,
   "metadata": {
    "collapsed": true
   },
   "outputs": [],
   "source": [
    "def test3(x):\n",
    "    return x**2 + 2"
   ]
  },
  {
   "cell_type": "code",
   "execution_count": 13,
   "metadata": {
    "collapsed": true
   },
   "outputs": [],
   "source": [
    "def test4(x):\n",
    "    return cos(x)+x**6"
   ]
  },
  {
   "cell_type": "code",
   "execution_count": 14,
   "metadata": {
    "collapsed": false
   },
   "outputs": [
    {
     "name": "stdout",
     "output_type": "stream",
     "text": [
      "Dual(0.683100840448,139.55813893)\n"
     ]
    }
   ],
   "source": [
    "a = Dual(2,1)\n",
    "print sin(test4(a))"
   ]
  },
  {
   "cell_type": "markdown",
   "metadata": {},
   "source": [
    "Comparando con Wolfram sí da."
   ]
  },
  {
   "cell_type": "markdown",
   "metadata": {},
   "source": [
    "# Taylor"
   ]
  },
  {
   "cell_type": "code",
   "execution_count": 96,
   "metadata": {
    "collapsed": true
   },
   "outputs": [],
   "source": [
    "class Taylor(object):\n",
    "    def __init__(self, pol):\n",
    "        self.pol = pol\n",
    "        \n",
    "    def __str__(self):\n",
    "        return \"Taylor(%s)\" % (str(self.pol))\n",
    "    \n",
    "    def __numero__(self,a):\n",
    "        return Taylor(list([a]))\n",
    "    \n",
    "    def __add__(self, b):\n",
    "#         if type(b) < type([0]):\n",
    "#             b = Taylor([b])\n",
    "        nuevoPol = [i+j for i,j in zip(promocionTaylor(self,b).pol,promocionTaylor(b,self).pol)]\n",
    "        return Taylor(nuevoPol)\n",
    "    \n",
    "    \n",
    "#     def __radd__(self, b):\n",
    "#         return self.__add__(b)\n",
    "    \n",
    "#     def __sub__(self, b):\n",
    "#         if type(self) < type(b):\n",
    "#             b = Dual(b)\n",
    "#         return Dual(self.fun-b.fun,self.der-b.der)\n",
    "    \n",
    "#     def __rsub__(self, b):\n",
    "#         return self.__sub__(b)\n",
    "    \n",
    "#     def __mul__(self, b):\n",
    "#         if type(self) < type(b):\n",
    "#             return Dual(b*self.fun,b*self.der)\n",
    "#         return Dual(self.fun*b.fun, (self.fun*b.der) + (b.fun*self.der))\n",
    "    \n",
    "#     def __rmul__(self, b):\n",
    "#         return self.__mul__(b)\n",
    "    \n",
    "#     def __div__(self, b):\n",
    "#         if type(self) < type(b) and b != 0:\n",
    "#             return Dual(self.fun/float(b), self.der/float(b))\n",
    "#         return Dual(self.fun/b.fun, (self.der - (self.fun/float(b.fun))*b.der)/float(b.fun))\n",
    "#     def __rdiv__(self,b):\n",
    "#         return self.__div__(b)\n",
    "    \n",
    "#     def __pow__(self,b):\n",
    "#         return Dual(self.fun**b, b*(self.fun**(b-1))*self.der)"
   ]
  },
  {
   "cell_type": "code",
   "execution_count": 103,
   "metadata": {
    "collapsed": false
   },
   "outputs": [],
   "source": [
    "def gradoMaxTaylor(a,b=Taylor([0])):\n",
    "    return max(len(a.pol), len(b.pol))\n",
    "def promocionTaylor(a,b):\n",
    "    n = gradoMaxTaylor(a,b)-gradoMaxTaylor(a)\n",
    "    nuevoPol = a.pol\n",
    "    return Taylor(nuevoPol.extend([0.]*n))"
   ]
  },
  {
   "cell_type": "code",
   "execution_count": 105,
   "metadata": {
    "collapsed": false
   },
   "outputs": [
    {
     "name": "stdout",
     "output_type": "stream",
     "text": [
      "Taylor([1, 2, 3]) Taylor([1])\n",
      "Taylor([1, 2, 3]) Taylor([1])\n"
     ]
    }
   ],
   "source": [
    "a = Taylor([1,2,3])\n",
    "b = Taylor([1])\n",
    "print a,b\n",
    "promocionTaylor(a,b)\n",
    "print a,b"
   ]
  },
  {
   "cell_type": "code",
   "execution_count": 114,
   "metadata": {
    "collapsed": false
   },
   "outputs": [
    {
     "name": "stdout",
     "output_type": "stream",
     "text": [
      "[1, 2, 0] Taylor([1, 2, 3])\n"
     ]
    }
   ],
   "source": [
    "a = Taylor([1,2,3])\n",
    "nbo = a.pol[:]\n",
    "nbo[2] = 0\n",
    "print nbo, a"
   ]
  },
  {
   "cell_type": "code",
   "execution_count": 99,
   "metadata": {
    "collapsed": false,
    "scrolled": true
   },
   "outputs": [
    {
     "ename": "AttributeError",
     "evalue": "'NoneType' object has no attribute 'pol'",
     "output_type": "error",
     "traceback": [
      "\u001b[1;31m---------------------------------------------------------------------------\u001b[0m",
      "\u001b[1;31mAttributeError\u001b[0m                            Traceback (most recent call last)",
      "\u001b[1;32m<ipython-input-99-19d407498a6d>\u001b[0m in \u001b[0;36m<module>\u001b[1;34m()\u001b[0m\n\u001b[1;32m----> 1\u001b[1;33m \u001b[0mnuevoPol\u001b[0m \u001b[1;33m=\u001b[0m \u001b[1;33m[\u001b[0m\u001b[0mi\u001b[0m\u001b[1;33m+\u001b[0m\u001b[0mj\u001b[0m \u001b[1;32mfor\u001b[0m \u001b[0mi\u001b[0m\u001b[1;33m,\u001b[0m\u001b[0mj\u001b[0m \u001b[1;32min\u001b[0m \u001b[0mzip\u001b[0m\u001b[1;33m(\u001b[0m\u001b[0mpromocionTaylor\u001b[0m\u001b[1;33m(\u001b[0m\u001b[0ma\u001b[0m\u001b[1;33m,\u001b[0m\u001b[0mb\u001b[0m\u001b[1;33m)\u001b[0m\u001b[1;33m.\u001b[0m\u001b[0mpol\u001b[0m\u001b[1;33m,\u001b[0m\u001b[0mpromocionTaylor\u001b[0m\u001b[1;33m(\u001b[0m\u001b[0mb\u001b[0m\u001b[1;33m,\u001b[0m\u001b[0ma\u001b[0m\u001b[1;33m)\u001b[0m\u001b[1;33m.\u001b[0m\u001b[0mpol\u001b[0m\u001b[1;33m)\u001b[0m\u001b[1;33m]\u001b[0m\u001b[1;33m\u001b[0m\u001b[0m\n\u001b[0m\u001b[0;32m      2\u001b[0m \u001b[1;32mprint\u001b[0m \u001b[0mTaylor\u001b[0m\u001b[1;33m(\u001b[0m\u001b[0mnuevoPol\u001b[0m\u001b[1;33m)\u001b[0m\u001b[1;33m\u001b[0m\u001b[0m\n",
      "\u001b[1;31mAttributeError\u001b[0m: 'NoneType' object has no attribute 'pol'"
     ]
    }
   ],
   "source": [
    "nuevoPol = [i+j for i,j in zip(promocionTaylor(a,b).pol,promocionTaylor(b,a).pol)]\n",
    "print Taylor(nuevoPol)"
   ]
  },
  {
   "cell_type": "code",
   "execution_count": 100,
   "metadata": {
    "collapsed": true
   },
   "outputs": [],
   "source": [
    "promocionTaylor(a,b)"
   ]
  },
  {
   "cell_type": "code",
   "execution_count": 95,
   "metadata": {
    "collapsed": false
   },
   "outputs": [
    {
     "data": {
      "text/plain": [
       "[35, 7, 10]"
      ]
     },
     "execution_count": 95,
     "metadata": {},
     "output_type": "execute_result"
    }
   ],
   "source": [
    "q = [1,2,3]\n",
    "w = [34,5,7]\n",
    "[z+x for z,x in zip(q,w)]"
   ]
  }
 ],
 "metadata": {
  "kernelspec": {
   "display_name": "Python 2",
   "language": "python",
   "name": "python2"
  },
  "language_info": {
   "codemirror_mode": {
    "name": "ipython",
    "version": 2
   },
   "file_extension": ".py",
   "mimetype": "text/x-python",
   "name": "python",
   "nbconvert_exporter": "python",
   "pygments_lexer": "ipython2",
   "version": "2.7.11"
  }
 },
 "nbformat": 4,
 "nbformat_minor": 0
}
