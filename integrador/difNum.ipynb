{
 "cells": [
  {
   "cell_type": "code",
   "execution_count": 2,
   "metadata": {
    "collapsed": false
   },
   "outputs": [],
   "source": [
    "import math\n",
    "import pylab\n",
    "%matplotlib inline"
   ]
  },
  {
   "cell_type": "code",
   "execution_count": 3,
   "metadata": {
    "collapsed": true
   },
   "outputs": [],
   "source": [
    "def fact(x):\n",
    "    if x == 0 or x == 1:\n",
    "        prod = 1\n",
    "    else:\n",
    "        prod = x*fact(x-1)\n",
    "    return prod"
   ]
  },
  {
   "cell_type": "markdown",
   "metadata": {},
   "source": [
    "objeto dual"
   ]
  },
  {
   "cell_type": "code",
   "execution_count": 4,
   "metadata": {
    "collapsed": false
   },
   "outputs": [],
   "source": [
    "class Dual(object):\n",
    "    def __init__(self,fun,der=0):\n",
    "        self.fun = fun\n",
    "        self.der = der\n",
    "    def __str__(self):\n",
    "        return \"Dual(%s,%s)\" % (str(self.fun),str(self.der))    \n",
    "    def __real__(self, a):\n",
    "        return Dual(a,0)\n",
    "    def __add__(self, b):\n",
    "        if type(self) < type(b):\n",
    "            b = Dual(b)\n",
    "        return Dual(self.fun+b.fun,self.der+b.der)\n",
    "    def __radd__(self, b):\n",
    "        return self.__add__(b)\n",
    "    def __sub__(self, b):\n",
    "        if type(self) < type(b):\n",
    "            b = Dual(b)\n",
    "        return Dual(self.fun-b.fun,self.der-b.der)\n",
    "    def __rsub__(self, b):\n",
    "        return self.__sub__(b)\n",
    "    def __mul__(self, b):\n",
    "        if type(self) < type(b):\n",
    "            return Dual(b*self.fun,b*self.der)\n",
    "        return Dual(self.fun*b.fun, (self.fun*b.der) + (b.fun*self.der))\n",
    "    def __rmul__(self, b):\n",
    "        return self.__mul__(b)\n",
    "    def __div__(self, b):\n",
    "        if type(self) < type(b) and b != 0:\n",
    "            return Dual(self.fun/float(b), self.der/float(b))\n",
    "        return Dual(self.fun/b.fun, (self.der - (self.fun/float(b.fun))*b.der)/float(b.fun))\n",
    "    def __rdiv__(self,b):\n",
    "        return self.__div__(b)\n",
    "    def __pow__(self,b):\n",
    "        return Dual(self.fun**b, b*(self.fun**(b-1))*self.der)"
   ]
  },
  {
   "cell_type": "code",
   "execution_count": 5,
   "metadata": {
    "collapsed": true
   },
   "outputs": [],
   "source": [
    "a = Dual(1,2)"
   ]
  },
  {
   "cell_type": "markdown",
   "metadata": {},
   "source": [
    "Derivada del término lineal"
   ]
  },
  {
   "cell_type": "code",
   "execution_count": 6,
   "metadata": {
    "collapsed": false
   },
   "outputs": [],
   "source": [
    "def xdual(x0):\n",
    "    return Dual(x0,1)"
   ]
  },
  {
   "cell_type": "markdown",
   "metadata": {},
   "source": [
    "Pruebas"
   ]
  },
  {
   "cell_type": "code",
   "execution_count": 7,
   "metadata": {
    "collapsed": true
   },
   "outputs": [],
   "source": [
    "def test1(x):\n",
    "    return 3*x**3-2"
   ]
  },
  {
   "cell_type": "code",
   "execution_count": 8,
   "metadata": {
    "collapsed": false
   },
   "outputs": [
    {
     "name": "stdout",
     "output_type": "stream",
     "text": [
      "Dual(1,9)\n"
     ]
    }
   ],
   "source": [
    "print test1(xdual(1))"
   ]
  },
  {
   "cell_type": "code",
   "execution_count": 9,
   "metadata": {
    "collapsed": true
   },
   "outputs": [],
   "source": [
    "def test2(x):\n",
    "    return (3*x**2-8*x+5)/(7*x**3-1)"
   ]
  },
  {
   "cell_type": "code",
   "execution_count": 10,
   "metadata": {
    "collapsed": false
   },
   "outputs": [
    {
     "name": "stdout",
     "output_type": "stream",
     "text": [
      "Dual(0,-0.333333333333)\n"
     ]
    }
   ],
   "source": [
    "print test2(xdual(1))"
   ]
  },
  {
   "cell_type": "code",
   "execution_count": 11,
   "metadata": {
    "collapsed": false
   },
   "outputs": [],
   "source": [
    "# Ahora definiremos métodos para funciones\n",
    "def sqrt(self):\n",
    "    if type(self) == Dual:\n",
    "        return Dual(math.sqrt(self.fun), (0.5)*(self.der/math.sqrt(self.fun)))\n",
    "    elif type(self) == Taylor:\n",
    "        return self**(0.5)\n",
    "    else:\n",
    "        return math.sqrt(self)\n",
    "def exp(self, nmax=5):\n",
    "    if type(self) == Dual:\n",
    "        return Dual(math.exp(self.fun), self.der*math.exp(self.fun))\n",
    "    elif type(self) == Taylor:\n",
    "        self = autoPromocion(self,max(gradoMaxTaylor(self),nmax))\n",
    "        n = gradoMaxTaylor(self)\n",
    "        exp_t = Taylor([0]*n)\n",
    "        exp_t.pol[0] = exp(self.pol[0])\n",
    "        for k in range(1,n):\n",
    "            suma = 0\n",
    "            for j in range(k):\n",
    "                suma += (k-j)*self.pol[k-j]*exp_t.pol[j]\n",
    "            exp_t.pol[k] = suma*(1./k)\n",
    "        return exp_t\n",
    "    else:\n",
    "        return math.exp(self)\n",
    "def log(self, nmax=5):\n",
    "    if type(self) == Dual:\n",
    "        return Dual(math.log(self.fun), self.der/self.fun)\n",
    "    elif type(self) == Taylor:\n",
    "        self = autoPromocion(self,max(gradoMaxTaylor(self),nmax))\n",
    "        n = gradoMaxTaylor(self) # grado máximo\n",
    "        L = Taylor([0]*n)\n",
    "        s = 0 # índice desde donde empezamos\n",
    "        while self.pol[s] == 0:\n",
    "            s += 1\n",
    "        L.pol[s] = log(self.pol[s])\n",
    "        for k in range(s+1,n):\n",
    "            suma = 0\n",
    "            for j in range(s+1,k):\n",
    "                suma += (j)*L.pol[j]*self.pol[k-j]\n",
    "            L.pol[k] = (1./self.pol[s])*(self.pol[k]-suma/(k-s))\n",
    "        return L\n",
    "    else:\n",
    "        return math.log(self)\n",
    "def sin(self,nmax=5):\n",
    "    if type(self) == Dual:\n",
    "        return Dual(math.sin(self.fun), self.der*math.cos(self.fun))\n",
    "    elif type(self) == Taylor:\n",
    "        self = autoPromocion(self,max(gradoMaxTaylor(self),nmax))\n",
    "        n = gradoMaxTaylor(self)\n",
    "        S = Taylor([0]*n)\n",
    "        for k in range(n):\n",
    "            S += ((-1.)**k)*(self**(2*k+1))/fact(2*k+1)\n",
    "        return S\n",
    "    else:\n",
    "        return math.sin(self)\n",
    "def cos(self,nmax=5):\n",
    "    if type(self) == Dual:\n",
    "        return Dual(math.cos(self.fun), -self.der*math.sin(self.fun)) \n",
    "    elif type(self) == Taylor:\n",
    "        self = autoPromocion(self,max(gradoMaxTaylor(self),nmax))\n",
    "        n = gradoMaxTaylor(self)\n",
    "        C = Taylor([0]*n)\n",
    "        for k in range(n):\n",
    "            C += ((-1.)**k)*(self**(2*k))/fact(2*k)\n",
    "        return C\n",
    "    else:\n",
    "        return math.cos(self)\n",
    "def tan(self):\n",
    "    if type(self) == Dual:\n",
    "        return Dual(math.tan(self.fun), self.der/(math.cos(self.fun)**2))\n",
    "    elif type(self) == Taylor:\n",
    "        return sin(self)/cos(self)\n",
    "    else:\n",
    "        return math.tan(self)\n",
    "def cot(self):\n",
    "    if type(self) == Dual:\n",
    "        return Dual(1./math.tan(self.fun), -1.*self.der/(math.sin(self.fun)**2))\n",
    "    elif type(self) == Taylor:\n",
    "        return cos(self)/sin(self)\n",
    "    else:\n",
    "        return 1./math.tan(self)\n",
    "def sec(self):\n",
    "    if type(self) == Dual:\n",
    "        return Dual(1./math.cos(self.fun), self.der*math.tan(self.fun)/math.cos(self.fun))\n",
    "    elif type(self) == Taylor:\n",
    "        return 1./cos(self)\n",
    "    else:\n",
    "        return 1./math.cos(self)\n",
    "def csc(self):\n",
    "    if type(self) == Dual:\n",
    "        return Dual(1./math.sin(self.fun), -1.*self.der/(math.tan(self.fun)*math.sin(self.fun)))\n",
    "    elif type(self) == Taylor:\n",
    "        return 1./sin(self)\n",
    "    else:\n",
    "        return 1./math.sin(self)"
   ]
  },
  {
   "cell_type": "code",
   "execution_count": 12,
   "metadata": {
    "collapsed": false,
    "scrolled": true
   },
   "outputs": [
    {
     "name": "stdout",
     "output_type": "stream",
     "text": [
      "Dual(2.0,1.0) Dual(0.909297426826,-0.416146836547)\n"
     ]
    }
   ],
   "source": [
    "a = Dual(2.0,1.0)\n",
    "print a, sin(a)"
   ]
  },
  {
   "cell_type": "code",
   "execution_count": 13,
   "metadata": {
    "collapsed": false
   },
   "outputs": [
    {
     "name": "stdout",
     "output_type": "stream",
     "text": [
      "-0.416146836547\n"
     ]
    },
    {
     "data": {
      "text/plain": [
       "True"
      ]
     },
     "execution_count": 13,
     "metadata": {},
     "output_type": "execute_result"
    }
   ],
   "source": [
    "print math.cos(2)\n",
    "sin(a).der == math.cos(2)"
   ]
  },
  {
   "cell_type": "markdown",
   "metadata": {},
   "source": [
    "Sí da hasta la 9na cifra decimal."
   ]
  },
  {
   "cell_type": "code",
   "execution_count": 14,
   "metadata": {
    "collapsed": true
   },
   "outputs": [],
   "source": [
    "def test3(x):\n",
    "    return x**2 + 2"
   ]
  },
  {
   "cell_type": "code",
   "execution_count": 15,
   "metadata": {
    "collapsed": true
   },
   "outputs": [],
   "source": [
    "def test4(x):\n",
    "    return cos(x)+x**6"
   ]
  },
  {
   "cell_type": "code",
   "execution_count": 16,
   "metadata": {
    "collapsed": false
   },
   "outputs": [
    {
     "name": "stdout",
     "output_type": "stream",
     "text": [
      "Dual(0.683100840448,139.55813893)\n"
     ]
    }
   ],
   "source": [
    "a = Dual(2,1)\n",
    "print sin(test4(a))"
   ]
  },
  {
   "cell_type": "markdown",
   "metadata": {},
   "source": [
    "Comparando con Wolfram sí da."
   ]
  },
  {
   "cell_type": "markdown",
   "metadata": {},
   "source": [
    "# Taylor"
   ]
  },
  {
   "cell_type": "code",
   "execution_count": 17,
   "metadata": {
    "collapsed": true
   },
   "outputs": [],
   "source": [
    "class Taylor(object):\n",
    "    def __init__(self, pol):\n",
    "        self.pol = pol\n",
    "    def __str__(self):\n",
    "        return \"Taylor(%s)\" % (str(self.pol))\n",
    "    def __add__(self, b):\n",
    "        if type(b) != (list and Taylor):\n",
    "            b = Taylor([b])\n",
    "        nuevoPol = [i+j for i,j in zip(promocionTaylor(self,b).pol,promocionTaylor(b,self).pol)]\n",
    "        return Taylor(nuevoPol)\n",
    "    def __radd__(self, b):\n",
    "        return self.__add__(b)\n",
    "    def __sub__(self, b):\n",
    "        if type(b) != (list and Taylor):\n",
    "            b = Taylor([b])\n",
    "        nuevoPol = [i-j for i,j in zip(promocionTaylor(self,b).pol,promocionTaylor(b,self).pol)]\n",
    "        return Taylor(nuevoPol)\n",
    "    def __rsub__(self, b):\n",
    "        return self.__sub__(b)\n",
    "    def __mul__(self, b):\n",
    "        if type(b) != (list and Taylor):\n",
    "            b = Taylor([b])\n",
    "        n = gradoMaxTaylor(self) + gradoMaxTaylor(b) - 1\n",
    "        r = Taylor([0]*n)\n",
    "        A = promocionTaylor(self,r)\n",
    "        B = promocionTaylor(b,r)\n",
    "        for k in range(n):\n",
    "            suma = 0\n",
    "            for j in range(k+1):\n",
    "                suma += A.pol[j]*B.pol[k-j]\n",
    "                #print \"elemento %d =\" % k, suma\n",
    "            r.pol[k] = suma\n",
    "        return r\n",
    "    def __rmul__(self, b):\n",
    "        return self.__mul__(b)\n",
    "    def __div__(self, b):\n",
    "        if type(b) != (list and Taylor):\n",
    "            b = Taylor([b])\n",
    "        A = promocionTaylor(self,b)\n",
    "        B = promocionTaylor(b,self)\n",
    "        n = gradoMaxTaylor(A)\n",
    "        r = Taylor([0]*n)\n",
    "        s = 0 # índice desde donde empezamos\n",
    "        while B.pol[s] == 0: # checamos si el primer término no es nulo\n",
    "            s += 1;\n",
    "        r.pol[0] = float(A.pol[s])/B.pol[s];\n",
    "        for k in range(s+1,n):\n",
    "            suma = 0\n",
    "            for j in range(k):\n",
    "                suma += r.pol[j]*B.pol[k-j]\n",
    "            r.pol[k-s] = float(A.pol[k]-suma)/B.pol[s]    \n",
    "        return r\n",
    "    def __rdiv__(self,b):\n",
    "        return self.__div__(b)\n",
    "    def __pow__(self,n):\n",
    "        res = Taylor([1.])\n",
    "        for k in range(n):\n",
    "            res = res*self\n",
    "        return res"
   ]
  },
  {
   "cell_type": "code",
   "execution_count": 18,
   "metadata": {
    "collapsed": false
   },
   "outputs": [],
   "source": [
    "def gradoMaxTaylor(a,b=Taylor([0])):\n",
    "    return max(len(a.pol), len(b.pol))\n",
    "\n",
    "def promocionTaylor(a,b):\n",
    "    n = gradoMaxTaylor(a,b)-gradoMaxTaylor(a)\n",
    "    nuevoPol = a.pol[:]\n",
    "    nuevoPol.extend([0]*n)\n",
    "    return Taylor(nuevoPol)\n",
    "\n",
    "def autoPromocion(a,n):\n",
    "    return promocionTaylor(a,Taylor([0]*n))"
   ]
  },
  {
   "cell_type": "code",
   "execution_count": 19,
   "metadata": {
    "collapsed": false
   },
   "outputs": [
    {
     "name": "stdout",
     "output_type": "stream",
     "text": [
      "Taylor([1, 15, 90, 270, 405, 243]) 7\n",
      "\n"
     ]
    }
   ],
   "source": [
    "a = Taylor([1,3])\n",
    "b = a*a\n",
    "c = b*b\n",
    "print c*a, gradoMaxTaylor(a)+ gradoMaxTaylor(c)\n",
    "print "
   ]
  },
  {
   "cell_type": "code",
   "execution_count": 20,
   "metadata": {
    "collapsed": false
   },
   "outputs": [
    {
     "name": "stdout",
     "output_type": "stream",
     "text": [
      "Taylor([1, 21, 189, 945, 2835, 5103, 5103, 2187]) Taylor([1.0, 21.0, 189.0, 945.0, 2835.0, 5103.0, 5103.0, 2187.0])\n"
     ]
    }
   ],
   "source": [
    "a = Taylor([1,3])\n",
    "\n",
    "print a*a*a*a*a*a*a, a**7"
   ]
  },
  {
   "cell_type": "code",
   "execution_count": 21,
   "metadata": {
    "collapsed": false,
    "scrolled": true
   },
   "outputs": [
    {
     "name": "stdout",
     "output_type": "stream",
     "text": [
      "Taylor([2.1972245773362196, 0.0, 0.0, -0.9488593580748406, 0.0])\n"
     ]
    }
   ],
   "source": [
    "b = Taylor([9,0,0,-math.pi*math.e])\n",
    "print log(b)"
   ]
  },
  {
   "cell_type": "code",
   "execution_count": 23,
   "metadata": {
    "collapsed": false
   },
   "outputs": [
    {
     "name": "stdout",
     "output_type": "stream",
     "text": [
      "Taylor([2.718281828459045, 5.43656365691809, 5.43656365691809, 3.624375771278727, 1.8121878856393634])\n"
     ]
    }
   ],
   "source": [
    "print exp(Taylor([1,2]))"
   ]
  },
  {
   "cell_type": "code",
   "execution_count": 20,
   "metadata": {
    "collapsed": false
   },
   "outputs": [
    {
     "name": "stdout",
     "output_type": "stream",
     "text": [
      "Taylor([1.0, 1.0, 0.5, 0.16666666666666666, 0.041666666666666664])\n",
      "Taylor([0.0, 1.0, -0.5, 0.3333333333333333, -0.25, 0.2, -0.16666666666666666, 0.14285714285714285, -0.125, 0.1111111111111111])\n"
     ]
    }
   ],
   "source": [
    "texp = Taylor([0,1])\n",
    "print exp(texp,5)\n",
    "tlog = Taylor([1,1])\n",
    "print log(tlog,10)"
   ]
  },
  {
   "cell_type": "code",
   "execution_count": 21,
   "metadata": {
    "collapsed": false,
    "scrolled": true
   },
   "outputs": [
    {
     "name": "stdout",
     "output_type": "stream",
     "text": [
      "Taylor([0.0, 0.0, 1.0, 0, 0])\n",
      "Taylor([0, 0, 1, 0, 0]) Taylor([0, 0, 1, 0, 0, 0, 0, 0, 0, 0])\n"
     ]
    }
   ],
   "source": [
    "a = Taylor([0,0,1,0,0])\n",
    "b = Taylor([0,0,0,0,1])\n",
    "print b/a\n",
    "print a, autoPromocion(a,10)"
   ]
  },
  {
   "cell_type": "code",
   "execution_count": 22,
   "metadata": {
    "collapsed": false,
    "scrolled": true
   },
   "outputs": [
    {
     "name": "stdout",
     "output_type": "stream",
     "text": [
      "Taylor([3, 4, 0, 4]) Taylor([1, 3])\n",
      "Taylor([4, 7, 0, 4])\n",
      "Taylor([4, 7, 0, 4])\n",
      "Taylor([5, 10, 0, 4])\n",
      "Taylor([-2, -1, 0, -4])\n",
      "Taylor([1, 6, 9])\n",
      "Taylor([0.3333333333333333, 0.5555555555555556, -0.7407407407407408, 0.54320987654321])\n"
     ]
    }
   ],
   "source": [
    "a = Taylor([3,4,0,4])\n",
    "b = Taylor([1,3])\n",
    "print a,b\n",
    "print a+b\n",
    "print b+a\n",
    "print b+b+a\n",
    "print b-a\n",
    "print b*b\n",
    "print b/a"
   ]
  },
  {
   "cell_type": "code",
   "execution_count": 23,
   "metadata": {
    "collapsed": false
   },
   "outputs": [
    {
     "name": "stdout",
     "output_type": "stream",
     "text": [
      "Taylor([1, 3]) Taylor([1.0, 18.0, 135.0, 540.0, 1215.0, 1458.0, 729.0])\n"
     ]
    }
   ],
   "source": [
    "print b, b**6"
   ]
  }
 ],
 "metadata": {
  "kernelspec": {
   "display_name": "Python 2",
   "language": "python",
   "name": "python2"
  },
  "language_info": {
   "codemirror_mode": {
    "name": "ipython",
    "version": 2
   },
   "file_extension": ".py",
   "mimetype": "text/x-python",
   "name": "python",
   "nbconvert_exporter": "python",
   "pygments_lexer": "ipython2",
   "version": "2.7.11"
  }
 },
 "nbformat": 4,
 "nbformat_minor": 0
}
